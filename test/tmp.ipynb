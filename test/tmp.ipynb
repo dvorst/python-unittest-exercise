{
 "cells": [
  {
   "cell_type": "code",
   "execution_count": 2,
   "metadata": {},
   "outputs": [],
   "source": [
    "import app"
   ]
  },
  {
   "cell_type": "code",
   "execution_count": 3,
   "metadata": {},
   "outputs": [
    {
     "name": "stdout",
     "output_type": "stream",
     "text": [
      "Help on package app:\n",
      "\n",
      "NAME\n",
      "    app\n",
      "\n",
      "PACKAGE CONTENTS\n",
      "    person\n",
      "\n",
      "FUNCTIONS\n",
      "    add(x, y)\n",
      "    \n",
      "    hello()\n",
      "\n",
      "FILE\n",
      "    /Users/dennis/Documents/projects/python-unittest-exercise/.venv/lib/python3.11/site-packages/app/__init__.py\n",
      "\n",
      "\n"
     ]
    }
   ],
   "source": [
    "help(app)"
   ]
  },
  {
   "cell_type": "code",
   "execution_count": 1,
   "metadata": {},
   "outputs": [
    {
     "ename": "ModuleNotFoundError",
     "evalue": "No module named 'app.calculator'",
     "output_type": "error",
     "traceback": [
      "\u001b[0;31m---------------------------------------------------------------------------\u001b[0m",
      "\u001b[0;31mModuleNotFoundError\u001b[0m                       Traceback (most recent call last)",
      "Cell \u001b[0;32mIn[1], line 1\u001b[0m\n\u001b[0;32m----> 1\u001b[0m \u001b[39mfrom\u001b[39;00m \u001b[39mapp\u001b[39;00m\u001b[39m.\u001b[39;00m\u001b[39mcalculator\u001b[39;00m \u001b[39mimport\u001b[39;00m Calculator\n",
      "\u001b[0;31mModuleNotFoundError\u001b[0m: No module named 'app.calculator'"
     ]
    }
   ],
   "source": [
    "from app.calculator import Calculator"
   ]
  }
 ],
 "metadata": {
  "kernelspec": {
   "display_name": ".venv",
   "language": "python",
   "name": "python3"
  },
  "language_info": {
   "codemirror_mode": {
    "name": "ipython",
    "version": 3
   },
   "file_extension": ".py",
   "mimetype": "text/x-python",
   "name": "python",
   "nbconvert_exporter": "python",
   "pygments_lexer": "ipython3",
   "version": "3.11.3"
  },
  "orig_nbformat": 4
 },
 "nbformat": 4,
 "nbformat_minor": 2
}
